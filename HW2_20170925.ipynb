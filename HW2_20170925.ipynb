{
 "cells": [
  {
   "cell_type": "code",
   "execution_count": 1,
   "metadata": {},
   "outputs": [
    {
     "data": {
      "text/html": [
       "<div>\n",
       "<style>\n",
       "    .dataframe thead tr:only-child th {\n",
       "        text-align: right;\n",
       "    }\n",
       "\n",
       "    .dataframe thead th {\n",
       "        text-align: left;\n",
       "    }\n",
       "\n",
       "    .dataframe tbody tr th {\n",
       "        vertical-align: top;\n",
       "    }\n",
       "</style>\n",
       "<table border=\"1\" class=\"dataframe\">\n",
       "  <thead>\n",
       "    <tr style=\"text-align: right;\">\n",
       "      <th></th>\n",
       "      <th>Fname</th>\n",
       "      <th>Lname</th>\n",
       "      <th>Gender</th>\n",
       "      <th>Hours Worked</th>\n",
       "      <th>SalesTraining</th>\n",
       "      <th>Years Experience</th>\n",
       "      <th>Cars Sold</th>\n",
       "    </tr>\n",
       "  </thead>\n",
       "  <tbody>\n",
       "    <tr>\n",
       "      <th>0</th>\n",
       "      <td>Jada</td>\n",
       "      <td>Walters</td>\n",
       "      <td>F</td>\n",
       "      <td>39</td>\n",
       "      <td>N</td>\n",
       "      <td>3</td>\n",
       "      <td>2</td>\n",
       "    </tr>\n",
       "    <tr>\n",
       "      <th>1</th>\n",
       "      <td>Nicole</td>\n",
       "      <td>Henderson</td>\n",
       "      <td>F</td>\n",
       "      <td>46</td>\n",
       "      <td>N</td>\n",
       "      <td>3</td>\n",
       "      <td>6</td>\n",
       "    </tr>\n",
       "    <tr>\n",
       "      <th>2</th>\n",
       "      <td>Tanya</td>\n",
       "      <td>Moore</td>\n",
       "      <td>F</td>\n",
       "      <td>42</td>\n",
       "      <td>Y</td>\n",
       "      <td>4</td>\n",
       "      <td>6</td>\n",
       "    </tr>\n",
       "    <tr>\n",
       "      <th>3</th>\n",
       "      <td>Ronelle</td>\n",
       "      <td>Jackson</td>\n",
       "      <td>F</td>\n",
       "      <td>38</td>\n",
       "      <td>Y</td>\n",
       "      <td>5</td>\n",
       "      <td>3</td>\n",
       "    </tr>\n",
       "    <tr>\n",
       "      <th>4</th>\n",
       "      <td>Brad</td>\n",
       "      <td>Sears</td>\n",
       "      <td>M</td>\n",
       "      <td>33</td>\n",
       "      <td>N</td>\n",
       "      <td>4</td>\n",
       "      <td>2</td>\n",
       "    </tr>\n",
       "  </tbody>\n",
       "</table>\n",
       "</div>"
      ],
      "text/plain": [
       "     Fname      Lname Gender  Hours Worked SalesTraining  Years Experience  \\\n",
       "0     Jada   Walters       F            39             N                 3   \n",
       "1   Nicole  Henderson      F            46             N                 3   \n",
       "2    Tanya      Moore      F            42             Y                 4   \n",
       "3  Ronelle    Jackson      F            38             Y                 5   \n",
       "4     Brad      Sears      M            33             N                 4   \n",
       "\n",
       "   Cars Sold  \n",
       "0          2  \n",
       "1          6  \n",
       "2          6  \n",
       "3          3  \n",
       "4          2  "
      ]
     },
     "execution_count": 1,
     "metadata": {},
     "output_type": "execute_result"
    }
   ],
   "source": [
    "import pandas as pd\n",
    "\n",
    "df = pd.read_csv('datasets/axisdata.csv')\n",
    "df.head()"
   ]
  },
  {
   "cell_type": "code",
   "execution_count": 2,
   "metadata": {},
   "outputs": [
    {
     "data": {
      "text/html": [
       "<div>\n",
       "<style>\n",
       "    .dataframe thead tr:only-child th {\n",
       "        text-align: right;\n",
       "    }\n",
       "\n",
       "    .dataframe thead th {\n",
       "        text-align: left;\n",
       "    }\n",
       "\n",
       "    .dataframe tbody tr th {\n",
       "        vertical-align: top;\n",
       "    }\n",
       "</style>\n",
       "<table border=\"1\" class=\"dataframe\">\n",
       "  <thead>\n",
       "    <tr style=\"text-align: right;\">\n",
       "      <th></th>\n",
       "      <th>Fname</th>\n",
       "      <th>Lname</th>\n",
       "      <th>Gender</th>\n",
       "      <th>Hours Worked</th>\n",
       "      <th>SalesTraining</th>\n",
       "      <th>Years Experience</th>\n",
       "      <th>Cars Sold</th>\n",
       "    </tr>\n",
       "  </thead>\n",
       "  <tbody>\n",
       "    <tr>\n",
       "      <th>0</th>\n",
       "      <td>Jada</td>\n",
       "      <td>Walters</td>\n",
       "      <td>F</td>\n",
       "      <td>39</td>\n",
       "      <td>N</td>\n",
       "      <td>3</td>\n",
       "      <td>2</td>\n",
       "    </tr>\n",
       "    <tr>\n",
       "      <th>1</th>\n",
       "      <td>Nicole</td>\n",
       "      <td>Henderson</td>\n",
       "      <td>F</td>\n",
       "      <td>46</td>\n",
       "      <td>N</td>\n",
       "      <td>3</td>\n",
       "      <td>6</td>\n",
       "    </tr>\n",
       "    <tr>\n",
       "      <th>2</th>\n",
       "      <td>Tanya</td>\n",
       "      <td>Moore</td>\n",
       "      <td>F</td>\n",
       "      <td>42</td>\n",
       "      <td>Y</td>\n",
       "      <td>4</td>\n",
       "      <td>6</td>\n",
       "    </tr>\n",
       "    <tr>\n",
       "      <th>3</th>\n",
       "      <td>Ronelle</td>\n",
       "      <td>Jackson</td>\n",
       "      <td>F</td>\n",
       "      <td>38</td>\n",
       "      <td>Y</td>\n",
       "      <td>5</td>\n",
       "      <td>3</td>\n",
       "    </tr>\n",
       "    <tr>\n",
       "      <th>4</th>\n",
       "      <td>Brad</td>\n",
       "      <td>Sears</td>\n",
       "      <td>M</td>\n",
       "      <td>33</td>\n",
       "      <td>N</td>\n",
       "      <td>4</td>\n",
       "      <td>2</td>\n",
       "    </tr>\n",
       "  </tbody>\n",
       "</table>\n",
       "</div>"
      ],
      "text/plain": [
       "     Fname      Lname Gender  Hours Worked SalesTraining  Years Experience  \\\n",
       "0     Jada   Walters       F            39             N                 3   \n",
       "1   Nicole  Henderson      F            46             N                 3   \n",
       "2    Tanya      Moore      F            42             Y                 4   \n",
       "3  Ronelle    Jackson      F            38             Y                 5   \n",
       "4     Brad      Sears      M            33             N                 4   \n",
       "\n",
       "   Cars Sold  \n",
       "0          2  \n",
       "1          6  \n",
       "2          6  \n",
       "3          3  \n",
       "4          2  "
      ]
     },
     "execution_count": 2,
     "metadata": {},
     "output_type": "execute_result"
    }
   ],
   "source": [
    "df = pd.read_excel('datasets/axisdata.xlsx')\n",
    "df.head()"
   ]
  },
  {
   "cell_type": "code",
   "execution_count": 4,
   "metadata": {},
   "outputs": [
    {
     "data": {
      "text/plain": [
       "3919"
      ]
     },
     "execution_count": 4,
     "metadata": {},
     "output_type": "execute_result"
    }
   ],
   "source": [
    "#Average Cars sold per month\n",
    "\n",
    "int(df['Cars Sold'].sum())"
   ]
  },
  {
   "cell_type": "code",
   "execution_count": 5,
   "metadata": {},
   "outputs": [
    {
     "data": {
      "text/html": [
       "<div>\n",
       "<style>\n",
       "    .dataframe thead tr:only-child th {\n",
       "        text-align: right;\n",
       "    }\n",
       "\n",
       "    .dataframe thead th {\n",
       "        text-align: left;\n",
       "    }\n",
       "\n",
       "    .dataframe tbody tr th {\n",
       "        vertical-align: top;\n",
       "    }\n",
       "</style>\n",
       "<table border=\"1\" class=\"dataframe\">\n",
       "  <thead>\n",
       "    <tr style=\"text-align: right;\">\n",
       "      <th></th>\n",
       "      <th>Hours Worked</th>\n",
       "      <th>Years Experience</th>\n",
       "      <th>Cars Sold</th>\n",
       "    </tr>\n",
       "  </thead>\n",
       "  <tbody>\n",
       "    <tr>\n",
       "      <th>count</th>\n",
       "      <td>999.000000</td>\n",
       "      <td>999.000000</td>\n",
       "      <td>999.000000</td>\n",
       "    </tr>\n",
       "    <tr>\n",
       "      <th>mean</th>\n",
       "      <td>33.727728</td>\n",
       "      <td>3.026026</td>\n",
       "      <td>3.922923</td>\n",
       "    </tr>\n",
       "    <tr>\n",
       "      <th>std</th>\n",
       "      <td>8.223454</td>\n",
       "      <td>1.394709</td>\n",
       "      <td>1.527000</td>\n",
       "    </tr>\n",
       "    <tr>\n",
       "      <th>min</th>\n",
       "      <td>20.000000</td>\n",
       "      <td>1.000000</td>\n",
       "      <td>1.000000</td>\n",
       "    </tr>\n",
       "    <tr>\n",
       "      <th>25%</th>\n",
       "      <td>27.000000</td>\n",
       "      <td>2.000000</td>\n",
       "      <td>3.000000</td>\n",
       "    </tr>\n",
       "    <tr>\n",
       "      <th>50%</th>\n",
       "      <td>34.000000</td>\n",
       "      <td>3.000000</td>\n",
       "      <td>4.000000</td>\n",
       "    </tr>\n",
       "    <tr>\n",
       "      <th>75%</th>\n",
       "      <td>41.000000</td>\n",
       "      <td>4.000000</td>\n",
       "      <td>5.000000</td>\n",
       "    </tr>\n",
       "    <tr>\n",
       "      <th>max</th>\n",
       "      <td>48.000000</td>\n",
       "      <td>5.000000</td>\n",
       "      <td>7.000000</td>\n",
       "    </tr>\n",
       "  </tbody>\n",
       "</table>\n",
       "</div>"
      ],
      "text/plain": [
       "       Hours Worked  Years Experience   Cars Sold\n",
       "count    999.000000        999.000000  999.000000\n",
       "mean      33.727728          3.026026    3.922923\n",
       "std        8.223454          1.394709    1.527000\n",
       "min       20.000000          1.000000    1.000000\n",
       "25%       27.000000          2.000000    3.000000\n",
       "50%       34.000000          3.000000    4.000000\n",
       "75%       41.000000          4.000000    5.000000\n",
       "max       48.000000          5.000000    7.000000"
      ]
     },
     "execution_count": 5,
     "metadata": {},
     "output_type": "execute_result"
    }
   ],
   "source": [
    "df.describe()"
   ]
  },
  {
   "cell_type": "code",
   "execution_count": 6,
   "metadata": {},
   "outputs": [
    {
     "data": {
      "text/plain": [
       "7"
      ]
     },
     "execution_count": 6,
     "metadata": {},
     "output_type": "execute_result"
    }
   ],
   "source": [
    "# Max. Cars Sold\n",
    "df['Cars Sold'].max()"
   ]
  },
  {
   "cell_type": "code",
   "execution_count": 7,
   "metadata": {},
   "outputs": [
    {
     "data": {
      "text/plain": [
       "1"
      ]
     },
     "execution_count": 7,
     "metadata": {},
     "output_type": "execute_result"
    }
   ],
   "source": [
    "# Min. Cars Sold\n",
    "df['Cars Sold'].min()"
   ]
  },
  {
   "cell_type": "code",
   "execution_count": 8,
   "metadata": {},
   "outputs": [
    {
     "data": {
      "text/plain": [
       "Gender\n",
       "F    3.760736\n",
       "M    4.078431\n",
       "Name: Cars Sold, dtype: float64"
      ]
     },
     "execution_count": 8,
     "metadata": {},
     "output_type": "execute_result"
    }
   ],
   "source": [
    "# Average Cars sold by gender\n",
    "df.groupby('Gender')['Cars Sold'].mean()"
   ]
  },
  {
   "cell_type": "code",
   "execution_count": 9,
   "metadata": {},
   "outputs": [
    {
     "data": {
      "text/plain": [
       "34.740237691001695"
      ]
     },
     "execution_count": 9,
     "metadata": {},
     "output_type": "execute_result"
    }
   ],
   "source": [
    "#Average hours worked by people who sold >3 cars\n",
    "\n",
    "df[df['Cars Sold'] >3]['Hours Worked'].mean()"
   ]
  },
  {
   "cell_type": "code",
   "execution_count": 10,
   "metadata": {},
   "outputs": [
    {
     "data": {
      "text/plain": [
       "3.026026026026026"
      ]
     },
     "execution_count": 10,
     "metadata": {},
     "output_type": "execute_result"
    }
   ],
   "source": [
    "# Average Years of experience\n",
    "\n",
    "df['Years Experience'].mean()"
   ]
  },
  {
   "cell_type": "code",
   "execution_count": 11,
   "metadata": {},
   "outputs": [
    {
     "data": {
      "text/plain": [
       "3.0492359932088284"
      ]
     },
     "execution_count": 11,
     "metadata": {},
     "output_type": "execute_result"
    }
   ],
   "source": [
    "# Average Years of experience for people who sold >3 cars\n",
    "\n",
    "df[df['Cars Sold'] >3]['Years Experience'].mean()"
   ]
  },
  {
   "cell_type": "code",
   "execution_count": 13,
   "metadata": {
    "scrolled": true
   },
   "outputs": [
    {
     "data": {
      "text/plain": [
       "SalesTraining\n",
       "N    3.573850\n",
       "Y    4.168942\n",
       "Name: Cars Sold, dtype: float64"
      ]
     },
     "execution_count": 13,
     "metadata": {},
     "output_type": "execute_result"
    }
   ],
   "source": [
    "#Average Cars Sold by whether or not they had Sales Training\n",
    "df.groupby('SalesTraining')['Cars Sold'].mean()"
   ]
  },
  {
   "cell_type": "code",
   "execution_count": 14,
   "metadata": {},
   "outputs": [
    {
     "data": {
      "text/html": [
       "<div>\n",
       "<style>\n",
       "    .dataframe thead tr:only-child th {\n",
       "        text-align: right;\n",
       "    }\n",
       "\n",
       "    .dataframe thead th {\n",
       "        text-align: left;\n",
       "    }\n",
       "\n",
       "    .dataframe tbody tr th {\n",
       "        vertical-align: top;\n",
       "    }\n",
       "</style>\n",
       "<table border=\"1\" class=\"dataframe\">\n",
       "  <thead>\n",
       "    <tr style=\"text-align: right;\">\n",
       "      <th></th>\n",
       "      <th>Hours Worked</th>\n",
       "      <th>Years Experience</th>\n",
       "      <th>Cars Sold</th>\n",
       "    </tr>\n",
       "  </thead>\n",
       "  <tbody>\n",
       "    <tr>\n",
       "      <th>Hours Worked</th>\n",
       "      <td>1.000000</td>\n",
       "      <td>0.028400</td>\n",
       "      <td>0.251038</td>\n",
       "    </tr>\n",
       "    <tr>\n",
       "      <th>Years Experience</th>\n",
       "      <td>0.028400</td>\n",
       "      <td>1.000000</td>\n",
       "      <td>0.062577</td>\n",
       "    </tr>\n",
       "    <tr>\n",
       "      <th>Cars Sold</th>\n",
       "      <td>0.251038</td>\n",
       "      <td>0.062577</td>\n",
       "      <td>1.000000</td>\n",
       "    </tr>\n",
       "  </tbody>\n",
       "</table>\n",
       "</div>"
      ],
      "text/plain": [
       "                  Hours Worked  Years Experience  Cars Sold\n",
       "Hours Worked          1.000000          0.028400   0.251038\n",
       "Years Experience      0.028400          1.000000   0.062577\n",
       "Cars Sold             0.251038          0.062577   1.000000"
      ]
     },
     "execution_count": 14,
     "metadata": {},
     "output_type": "execute_result"
    }
   ],
   "source": [
    "df.corr()"
   ]
  },
  {
   "cell_type": "code",
   "execution_count": 21,
   "metadata": {},
   "outputs": [
    {
     "data": {
      "text/html": [
       "<div>\n",
       "<style>\n",
       "    .dataframe thead tr:only-child th {\n",
       "        text-align: right;\n",
       "    }\n",
       "\n",
       "    .dataframe thead th {\n",
       "        text-align: left;\n",
       "    }\n",
       "\n",
       "    .dataframe tbody tr th {\n",
       "        vertical-align: top;\n",
       "    }\n",
       "</style>\n",
       "<table border=\"1\" class=\"dataframe\">\n",
       "  <thead>\n",
       "    <tr style=\"text-align: right;\">\n",
       "      <th></th>\n",
       "      <th>Fname</th>\n",
       "      <th>Lname</th>\n",
       "      <th>Gender</th>\n",
       "      <th>Hours Worked</th>\n",
       "      <th>SalesTraining</th>\n",
       "      <th>Years Experience</th>\n",
       "      <th>Cars Sold</th>\n",
       "      <th>MonthlyHours</th>\n",
       "      <th>SalesperHour</th>\n",
       "    </tr>\n",
       "  </thead>\n",
       "  <tbody>\n",
       "    <tr>\n",
       "      <th>738</th>\n",
       "      <td>Peter</td>\n",
       "      <td>Walters</td>\n",
       "      <td>M</td>\n",
       "      <td>20</td>\n",
       "      <td>Y</td>\n",
       "      <td>5</td>\n",
       "      <td>6</td>\n",
       "      <td>85.714286</td>\n",
       "      <td>0.07</td>\n",
       "    </tr>\n",
       "  </tbody>\n",
       "</table>\n",
       "</div>"
      ],
      "text/plain": [
       "     Fname     Lname Gender  Hours Worked SalesTraining  Years Experience  \\\n",
       "738  Peter  Walters       M            20             Y                 5   \n",
       "\n",
       "     Cars Sold  MonthlyHours  SalesperHour  \n",
       "738          6     85.714286          0.07  "
      ]
     },
     "execution_count": 21,
     "metadata": {},
     "output_type": "execute_result"
    }
   ],
   "source": [
    "#Best Salesperson = One who sold most cars per hour\n",
    "df['MonthlyHours'] = 30*(df['Hours Worked']/7)\n",
    "df['SalesperHour'] = df['Cars Sold']/df['MonthlyHours']\n",
    "maxsales = df['SalesperHour'].max()\n",
    "df[df['SalesperHour'] ==maxsales]"
   ]
  }
 ],
 "metadata": {
  "kernelspec": {
   "display_name": "Python 2",
   "language": "python",
   "name": "python2"
  },
  "language_info": {
   "codemirror_mode": {
    "name": "ipython",
    "version": 2
   },
   "file_extension": ".py",
   "mimetype": "text/x-python",
   "name": "python",
   "nbconvert_exporter": "python",
   "pygments_lexer": "ipython2",
   "version": "2.7.13"
  }
 },
 "nbformat": 4,
 "nbformat_minor": 2
}
